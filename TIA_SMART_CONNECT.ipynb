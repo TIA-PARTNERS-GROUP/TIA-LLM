{
 "cells": [
  {
   "cell_type": "code",
   "execution_count": 1,
   "id": "73bc2edb",
   "metadata": {},
   "outputs": [
    {
     "name": "stderr",
     "output_type": "stream",
     "text": [
      "/home/joshua/miniconda3/envs/llm-env/lib/python3.10/site-packages/tqdm/auto.py:21: TqdmWarning: IProgress not found. Please update jupyter and ipywidgets. See https://ipywidgets.readthedocs.io/en/stable/user_install.html\n",
      "  from .autonotebook import tqdm as notebook_tqdm\n"
     ]
    }
   ],
   "source": [
    "from transformers import AutoTokenizer, BitsAndBytesConfig, AutoModelForCausalLM\n",
    "import torch"
   ]
  },
  {
   "cell_type": "code",
   "execution_count": 2,
   "id": "af469bf8",
   "metadata": {},
   "outputs": [
    {
     "name": "stderr",
     "output_type": "stream",
     "text": [
      "Loading checkpoint shards: 100%|██████████| 7/7 [00:06<00:00,  1.04it/s]\n"
     ]
    }
   ],
   "source": [
    "#model_path = \"/mnt/models/llm_storage/Phi-4-mini-instruct\"\n",
    "model_path = \"/home/joshua/llms/llama3.1_PC_Build/Llama-3.1-8B-Instruct\"\n",
    "quantization_config = BitsAndBytesConfig(\n",
    "    load_in_4bit=True,\n",
    "    bnb_4bit_compute_dtype=torch.bfloat16,\n",
    "    bnb_4bit_quant_type=\"nf4\"\n",
    ")\n",
    "\n",
    "tokenizer = AutoTokenizer.from_pretrained(model_path)\n",
    "\n",
    "model = AutoModelForCausalLM.from_pretrained(\n",
    "    model_path, \n",
    "    torch_dtype=torch.bfloat16,\n",
    "    quantization_config=quantization_config,\n",
    "    device_map=\"cuda:0\"\n",
    ")"
   ]
  },
  {
   "cell_type": "code",
   "execution_count": null,
   "id": "fc6ea987",
   "metadata": {},
   "outputs": [],
   "source": [
    "system_context = {\n",
    "    \"role\": \"system\",\n",
    "        \"content\": (\n",
    "            \"You are SMARTConnect V2, a helpful and strategic AI assistant created to help small businesses discover ideal partnerships. \"\n",
    "            \"You dont know there business or anbything about them until they tell you. \"\n",
    "            \"Your goal is to help them find the best partnerships for their business. \"\n",
    "            \"Ask relevant business questions first, and only generate partner recommendations and outreach emails once you have complete information.\"\n",
    "        )\n",
    "}\n",
    "\n",
    "bot_context = [\n",
    "    {\n",
    "        \"role\": \"assistant\",\n",
    "        \"content\": (\n",
    "            \"When the user initiates the conversation, begin by asking them to describe their business. \"\n",
    "            \"Ask for what the bussiness is name and there primary purpose. \"\n",
    "            \"Prompt them to explain what their company does and what kinds of products or services they offer. \"\n",
    "            \"This will help lay the foundation for a personalized recommendation.\"\n",
    "        )\n",
    "    },\n",
    "    {\n",
    "        \"role\": \"assistant\",\n",
    "        \"content\": (\n",
    "            \"Once the user has shared their business overview, follow up with more specific questions to fully understand their operation. \"\n",
    "            \"Ask about their typical customer base (e.g. individuals, schools, small businesses), any accessories or services they provide \"\n",
    "            \"(e.g. support, warranties, repairs), and whether they operate online, in-store, or both. \"\n",
    "            \"These details will help you tailor your recommendations more precisely.\"\n",
    "        )\n",
    "    }\n",
    "]\n",
    "\n",
    "\n",
    "final_context = {\n",
    "    \"role\": \"assistant\",\n",
    "    \"content\": (\n",
    "        \"Once the user has provided complete details about their business, prepare to generate your recommendations. \"\n",
    "        \"Clearly indicate to the user that you're now creating the output. \"\n",
    "        \"List the top 3 most complementary business categories for partnerships based on the users information. \"\n",
    "        \"For each complementary business list a reason, 2-3 strategic benefits, and a professional outreach email template. \"\n",
    "    )\n",
    "}\n",
    "\n",
    "# ISSUE!\n",
    "def format_messages(messages):\n",
    "    prompt = \"\"\n",
    "    for msg in messages:\n",
    "        role = msg[\"role\"]\n",
    "        if role == \"system\":\n",
    "            prompt += f\"<|system|>\\n{msg['content']}\\n\"\n",
    "        elif role == \"user\":\n",
    "            prompt += f\"<|user|>\\n{msg['content']}\\n\"\n",
    "        elif role == \"assistant\":\n",
    "            prompt += f\"<|assistant|>\\n{msg['content']}\\n\"\n",
    "    prompt += \"<|assistant|>\\n\"\n",
    "    return prompt\n",
    "\n",
    "stop_tokens = [\"<|user|>\", \"<|system|>\", \"<|endoftext|>\"]\n",
    "def trim_output(output_text):\n",
    "    for stop in stop_tokens:\n",
    "        if stop in output_text:\n",
    "            return output_text.split(stop)[0].strip()\n",
    "    return output_text.strip()\n",
    "\n",
    "# outputs = pipeline(\n",
    "#     prompt, \n",
    "#     max_new_tokens=2000,\n",
    "#     length_penalty=1,\n",
    "#     num_beams=6,\n",
    "#     temperature=0.1,\n",
    "#     top_p=0.8,\n",
    "#     repetition_penalty=1,\n",
    "#     )\n",
    "\n",
    "def generate_response(messages, max_new_tokens):\n",
    "    prompt = format_messages(messages)\n",
    "    #print(prompt)\n",
    "    inputs = tokenizer(prompt, return_tensors=\"pt\").to(model.device)\n",
    "    outputs = model.generate(\n",
    "        **inputs,\n",
    "        max_new_tokens=max_new_tokens,\n",
    "        do_sample=True,\n",
    "        temperature=0.7,\n",
    "        #top_p=0.95,\n",
    "        #repetition_penalty=1.1,\n",
    "        pad_token_id=tokenizer.pad_token_id,\n",
    "        eos_token_id=tokenizer.eos_token_id\n",
    "    )\n",
    "    response = tokenizer.decode(outputs[0], skip_special_tokens=True)\n",
    "    return trim_output(response.split(\"<|assistant|>\")[-1])\n",
    "    #return response.split(\"<|assistant|>\")[-1]"
   ]
  },
  {
   "cell_type": "code",
   "execution_count": null,
   "id": "dd391fb2",
   "metadata": {},
   "outputs": [
    {
     "name": "stdout",
     "output_type": "stream",
     "text": [
      "Running on local URL:  http://0.0.0.0:7864\n"
     ]
    },
    {
     "name": "stderr",
     "output_type": "stream",
     "text": [
      "/home/joshua/miniconda3/envs/llm-env/lib/python3.10/site-packages/gradio/analytics.py:106: UserWarning: IMPORTANT: You are using gradio version 4.37.2, however version 4.44.1 is available, please upgrade. \n",
      "--------\n",
      "  warnings.warn(\n"
     ]
    },
    {
     "name": "stdout",
     "output_type": "stream",
     "text": [
      "Running on public URL: https://5c620037a446bf1558.gradio.live\n",
      "\n",
      "This share link expires in 72 hours. For free permanent hosting and GPU upgrades, run `gradio deploy` from Terminal to deploy to Spaces (https://huggingface.co/spaces)\n"
     ]
    },
    {
     "data": {
      "text/html": [
       "<div><iframe src=\"https://5c620037a446bf1558.gradio.live\" width=\"100%\" height=\"500\" allow=\"autoplay; camera; microphone; clipboard-read; clipboard-write;\" frameborder=\"0\" allowfullscreen></iframe></div>"
      ],
      "text/plain": [
       "<IPython.core.display.HTML object>"
      ]
     },
     "metadata": {},
     "output_type": "display_data"
    },
    {
     "data": {
      "text/plain": []
     },
     "execution_count": 22,
     "metadata": {},
     "output_type": "execute_result"
    },
    {
     "name": "stderr",
     "output_type": "stream",
     "text": [
      "Setting `pad_token_id` to `eos_token_id`:128009 for open-end generation.\n",
      "Setting `pad_token_id` to `eos_token_id`:128009 for open-end generation.\n",
      "Setting `pad_token_id` to `eos_token_id`:128009 for open-end generation.\n",
      "Setting `pad_token_id` to `eos_token_id`:128009 for open-end generation.\n"
     ]
    },
    {
     "ename": "",
     "evalue": "",
     "output_type": "error",
     "traceback": [
      "\u001b[1;31mThe Kernel crashed while executing code in the current cell or a previous cell. \n",
      "\u001b[1;31mPlease review the code in the cell(s) to identify a possible cause of the failure. \n",
      "\u001b[1;31mClick <a href='https://aka.ms/vscodeJupyterKernelCrash'>here</a> for more info. \n",
      "\u001b[1;31mView Jupyter <a href='command:jupyter.viewOutput'>log</a> for further details."
     ]
    }
   ],
   "source": [
    "import gradio as gr\n",
    "\n",
    "load_context = [system_context] \n",
    "chat_stage = 0 \n",
    "\n",
    "def smartconnect_chat(user_input):\n",
    "    global chat_stage, load_context\n",
    "\n",
    "    if user_input.strip().upper() == \"RESET\":\n",
    "        load_context = [system_context]\n",
    "        chat_stage = 0\n",
    "        return \"SMARTConnect V2: Memory cleared! Please type 'START' to begin again.\"\n",
    "\n",
    "    if user_input.strip().upper() == \"START\" and chat_stage == 0:\n",
    "        load_context.append({\n",
    "            \"role\": \"assistant\",\n",
    "            \"content\": \"Alright, let's begin! \" + bot_context[0]['content']\n",
    "        })\n",
    "        chat_stage += 1\n",
    "        return \"SMARTConnect V2: \" + bot_context[0]['content']\n",
    "\n",
    "    elif 0 < chat_stage <= len(bot_context):\n",
    "        load_context.append({\"role\": \"user\", \"content\": user_input})\n",
    "\n",
    "        if chat_stage < len(bot_context):\n",
    "            load_context.append(bot_context[chat_stage])\n",
    "            chat_response = generate_response(load_context, 400)\n",
    "            chat_stage += 1\n",
    "            return f\"SMARTConnect V2: {chat_response}\"\n",
    "\n",
    "        else:\n",
    "            load_context.append(final_context)\n",
    "            final_response = generate_response(load_context, 2000)\n",
    "            chat_stage += 1\n",
    "            return f\"SMARTConnect V2:\\n\\n{final_response}\"\n",
    "\n",
    "    else:\n",
    "        return \"SMARTConnect V2: Thank you! If you wish to restart, refresh the page.\"\n",
    "\n",
    "gr.Interface(\n",
    "    fn=smartconnect_chat,\n",
    "    inputs=gr.Textbox(lines=2, placeholder=\"Type 'START' to begin\"),\n",
    "    outputs=\"text\",\n",
    "    title=\"SMARTConnect V2 - Business Partnership Finder\",\n",
    "    description=\"Say 'START' to begin the business discovery process. Type 'RESET' anytime to restart.\"\n",
    ").launch(server_name=\"0.0.0.0\", server_port=7864, share=True)\n"
   ]
  },
  {
   "cell_type": "code",
   "execution_count": null,
   "id": "b510b92f",
   "metadata": {},
   "outputs": [
    {
     "name": "stdout",
     "output_type": "stream",
     "text": [
      "SMARTConnect V2: This is a business connection tool for Small Tech Businesses, say START to begin\n"
     ]
    },
    {
     "name": "stderr",
     "output_type": "stream",
     "text": [
      "Setting `pad_token_id` to `eos_token_id`:128009 for open-end generation.\n"
     ]
    },
    {
     "name": "stdout",
     "output_type": "stream",
     "text": [
      "SMARTConnect V2: Alright lets begin!\n",
      "\n",
      "SMARTConnect V2:\n",
      "Another question to help me better understand your business: What industries or sectors is your business primarily operating in? For example, is it healthcare, finance, retail, technology, or something else? This will help me provide more targeted and relevant partnership suggestions.\n",
      "\n"
     ]
    },
    {
     "ename": "NameError",
     "evalue": "name 'display_in_browser' is not defined",
     "output_type": "error",
     "traceback": [
      "\u001b[0;31m---------------------------------------------------------------------------\u001b[0m",
      "\u001b[0;31mNameError\u001b[0m                                 Traceback (most recent call last)",
      "Cell \u001b[0;32mIn[13], line 13\u001b[0m\n\u001b[1;32m     11\u001b[0m \u001b[38;5;66;03m#print(f\"\\nDebug - Loading Context:\\n{i}\\n\")\u001b[39;00m\n\u001b[1;32m     12\u001b[0m \u001b[38;5;28mprint\u001b[39m(\u001b[38;5;124mf\u001b[39m\u001b[38;5;124m\"\u001b[39m\u001b[38;5;130;01m\\n\u001b[39;00m\u001b[38;5;124mSMARTConnect V2:\u001b[39m\u001b[38;5;130;01m\\n\u001b[39;00m\u001b[38;5;132;01m{\u001b[39;00mchat_response\u001b[38;5;132;01m}\u001b[39;00m\u001b[38;5;130;01m\\n\u001b[39;00m\u001b[38;5;124m\"\u001b[39m)\n\u001b[0;32m---> 13\u001b[0m \u001b[43mdisplay_in_browser\u001b[49m(chat_response)\n\u001b[1;32m     15\u001b[0m user_input \u001b[38;5;241m=\u001b[39m \u001b[38;5;28minput\u001b[39m(\u001b[38;5;124m\"\u001b[39m\u001b[38;5;124mYou: \u001b[39m\u001b[38;5;124m\"\u001b[39m)\n\u001b[1;32m     16\u001b[0m load_context\u001b[38;5;241m.\u001b[39mappend({\u001b[38;5;124m\"\u001b[39m\u001b[38;5;124mrole\u001b[39m\u001b[38;5;124m\"\u001b[39m: \u001b[38;5;124m\"\u001b[39m\u001b[38;5;124muser\u001b[39m\u001b[38;5;124m\"\u001b[39m, \u001b[38;5;124m\"\u001b[39m\u001b[38;5;124mcontent\u001b[39m\u001b[38;5;124m\"\u001b[39m: user_input})\n",
      "\u001b[0;31mNameError\u001b[0m: name 'display_in_browser' is not defined"
     ]
    }
   ],
   "source": [
    "# load_context = [system_context]\n",
    "\n",
    "# print(\"SMARTConnect V2: This is a business connection tool for Small Tech Businesses, say START to begin\")\n",
    "# while user_input != \"START\":\n",
    "#     user_input = input(\"You: \")\n",
    "\n",
    "# print(\"SMARTConnect V2: Alright lets begin!\")\n",
    "# for i in range(len(bot_context)):\n",
    "#     load_context.append(bot_context[i])\n",
    "#     chat_response = generate_response(load_context, 400)\n",
    "#     #print(f\"\\nDebug - Loading Context:\\n{i}\\n\")\n",
    "#     print(f\"\\nSMARTConnect V2:\\n{chat_response}\\n\")\n",
    "    \n",
    "#     user_input = input(\"You: \")\n",
    "#     load_context.append({\"role\": \"user\", \"content\": user_input})\n",
    "\n",
    "# print(\"\\nSMARTConnect V2 is generating your tailored recommendations...\\n\")\n",
    "# load_context.append(final_context)\n",
    "# final_response = generate_response(load_context, 2000)\n",
    "# print(f\"\\nSMARTConnect V2:\\n{final_response}\\n\")\n",
    "\n",
    "# OUTPUT EXAMPLE\n",
    "# SMARTConnect V2:\n",
    "\n",
    "# Based on our conversation, I recommend the following top 3 business categories for partnerships:\n",
    "\n",
    "# **1. Local Food Suppliers**\n",
    "\n",
    "# Reason: Aligning with your focus on quality and sustainability, partnering with local food suppliers can ensure consistent freshness and reduce carbon footprint.\n",
    "\n",
    "# Strategic Benefits:\n",
    "\n",
    "# * Secure access to high-quality ingredients\n",
    "# * Support local businesses and contribute to community development\n",
    "# * Enhance your brand's reputation for sustainability\n",
    "\n",
    "# Outreach Email Template:\n",
    "\n",
    "# Subject: Exploring Partnership Opportunities for Fresh Ingredients\n",
    "\n",
    "# Dear [Supplier's Name],\n",
    "\n",
    "# I hope this email finds you well. As a cooking business focused on delivering quality meals, I'm excited to explore potential partnership opportunities with your local food supplier company. Our shared commitment to sustainability and quality aligns perfectly with your business model.\n",
    "\n",
    "# Would you be open to discussing how we can work together to source fresh, locally-sourced ingredients for our customers? I believe our collaboration could bring numerous benefits to both our businesses.\n",
    "\n",
    "# Looking forward to hearing from you.\n",
    "\n",
    "# Best regards,\n",
    "# [Your Name]\n",
    "\n",
    "# **2. Kitchen Appliance Brands**\n",
    "\n",
    "# Reason: Partnering with kitchen appliance brands can enhance your business's reputation for quality and provide customers with integrated solutions.\n",
    "\n",
    "# Strategic Benefits:\n",
    "\n",
    "# * Offer bundled solutions with appliances and cooking services\n",
    "# * Enhance your brand's reputation for quality and expertise\n",
    "# * Access to innovative appliances and cooking technologies\n",
    "\n",
    "# Outreach Email Template:\n",
    "\n",
    "# Subject: Partnership Opportunities for Integrated Cooking Solutions\n",
    "\n",
    "# Dear [Appliance Brand's Name],\n",
    "\n",
    "# I'm reaching out to explore potential partnership opportunities between our cooking business and your kitchen appliance brand. Our shared passion for quality and innovation aligns perfectly with your business model.\n",
    "\n",
    "# Would you be interested in discussing how we can collaborate to offer bundled solutions with our cooking services and your appliances? This could bring significant benefits to both our businesses, including enhanced customer satisfaction and increased brand visibility.\n",
    "\n",
    "# Looking forward to hearing from you.\n",
    "\n",
    "# Best regards,\n",
    "# [Your Name]\n",
    "\n",
    "# **3. Cooking Schools or Health and Wellness Brands**\n",
    "\n",
    "# Reason: Partnering with cooking schools or health and wellness brands can expand your customer base, enhance your brand's reputation, and offer new services.\n",
    "\n",
    "# Strategic Benefits:\n",
    "\n",
    "# * Access new customer segments and expand your business\n",
    "# * Collaborate on cooking classes, workshops, or events\n",
    "# * Enhance your brand's reputation for expertise and commitment to healthy eating\n",
    "\n",
    "# Outreach Email Template:\n",
    "\n",
    "# Subject: Exploring Partnership Opportunities for Cooking Classes and Events\n",
    "\n",
    "# Dear [Cooking School's Name],\n",
    "\n",
    "# I hope this email finds you well. As a cooking business focused on delivering quality meals, I'm excited to explore potential partnership opportunities with your cooking school. Our shared passion for cooking and healthy eating aligns perfectly with your business model.\n",
    "\n",
    "# Would you be interested in discussing how we can collaborate on cooking classes, workshops, or events that showcase our expertise and your school's offerings? This could bring numerous benefits to both our businesses, including expanded customer reach and enhanced brand visibility.\n",
    "\n",
    "# Looking forward to hearing from you.\n",
    "\n",
    "# Best regards,\n",
    "# [Your Name]\n",
    "\n",
    "# Which of these partnerships resonates with you the most, or would you like to explore other options?"
   ]
  }
 ],
 "metadata": {
  "kernelspec": {
   "display_name": "llm-env",
   "language": "python",
   "name": "python3"
  },
  "language_info": {
   "codemirror_mode": {
    "name": "ipython",
    "version": 3
   },
   "file_extension": ".py",
   "mimetype": "text/x-python",
   "name": "python",
   "nbconvert_exporter": "python",
   "pygments_lexer": "ipython3",
   "version": "3.10.16"
  }
 },
 "nbformat": 4,
 "nbformat_minor": 5
}
