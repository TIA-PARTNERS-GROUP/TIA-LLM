{
 "cells": [
  {
   "cell_type": "code",
   "execution_count": 2,
   "id": "8697cee5",
   "metadata": {},
   "outputs": [
    {
     "name": "stderr",
     "output_type": "stream",
     "text": [
      "/home/joshua/miniconda3/envs/llm-env/lib/python3.10/site-packages/tqdm/auto.py:21: TqdmWarning: IProgress not found. Please update jupyter and ipywidgets. See https://ipywidgets.readthedocs.io/en/stable/user_install.html\n",
      "  from .autonotebook import tqdm as notebook_tqdm\n"
     ]
    }
   ],
   "source": [
    "from langgraph.graph import StateGraph, END\n",
    "from typing import TypedDict, Literal\n",
    "from langchain_core.messages import HumanMessage, AIMessage\n",
    "\n",
    "from transformers import AutoModelForCausalLM, AutoTokenizer, BitsAndBytesConfig\n",
    "from IPython.display import Image, display\n",
    "import gradio as gr\n",
    "import torch,json\n",
    "\n",
    "from langgraph.graph.message import add_messages\n",
    "from langgraph.checkpoint.memory import MemorySaver\n",
    "from langchain_core.messages import HumanMessage, AIMessage, ToolMessage, SystemMessage\n",
    "from typing import Literal, Annotated\n",
    "from typing_extensions import TypedDict\n",
    "from pydantic import BaseModel\n",
    "from langchain_core.language_models import BaseChatModel\n",
    "from langchain_core.messages import BaseMessage, AIMessage"
   ]
  },
  {
   "cell_type": "markdown",
   "id": "3a87913d",
   "metadata": {},
   "source": [
    "# DUMMY DATA"
   ]
  },
  {
   "cell_type": "code",
   "execution_count": 3,
   "id": "d8c666e8",
   "metadata": {},
   "outputs": [],
   "source": [
    "dummy_path = r\"/home/joshua/llms/IFB398/dummy_data.json\"\n",
    "with open(\"chat_flow.json\") as f:\n",
    "    chat_flow = json.load(f)"
   ]
  },
  {
   "cell_type": "markdown",
   "id": "a3280531",
   "metadata": {},
   "source": [
    "# MODEL SETUP"
   ]
  },
  {
   "cell_type": "code",
   "execution_count": 4,
   "id": "08a8fb6b",
   "metadata": {},
   "outputs": [
    {
     "name": "stderr",
     "output_type": "stream",
     "text": [
      "Loading checkpoint shards: 100%|██████████| 2/2 [00:01<00:00,  1.32it/s]\n"
     ]
    }
   ],
   "source": [
    "model_path = \"/mnt/models/llm_storage/Llama-3.2-3B-Instruct\"\n",
    "\n",
    "quantization_config = BitsAndBytesConfig(\n",
    "    load_in_4bit=True,\n",
    "    bnb_4bit_compute_dtype=torch.bfloat16,\n",
    "    bnb_4bit_quant_type=\"nf4\"\n",
    ")\n",
    "\n",
    "tokenizer = AutoTokenizer.from_pretrained(model_path)\n",
    "\n",
    "model = AutoModelForCausalLM.from_pretrained(\n",
    "    model_path, \n",
    "    torch_dtype=torch.bfloat16,\n",
    "    quantization_config=quantization_config,\n",
    "    device_map=\"cuda:0\"\n",
    ")\n",
    "\n",
    "template = \"\"\"You are collecting business profile information.\n",
    "Ask the user for:\n",
    "- business name\n",
    "- core capabilities\n",
    "- the industry they operate in\n",
    "- business goals\n",
    "\n",
    "Only call the tool when you are confident all required information has been gathered.\"\"\""
   ]
  },
  {
   "cell_type": "markdown",
   "id": "3c8a1032",
   "metadata": {},
   "source": [
    "# NODES"
   ]
  },
  {
   "cell_type": "code",
   "execution_count": 5,
   "id": "def28680",
   "metadata": {},
   "outputs": [],
   "source": [
    "class UserProfile(BaseModel):\n",
    "    business_name: str\n",
    "    capabilities: list[str]\n",
    "    industry: str\n",
    "    goals: str\n",
    "\n",
    "class State(TypedDict):\n",
    "    messages: Annotated[list, add_messages]\n",
    "    answers: dict[str, str]"
   ]
  },
  {
   "cell_type": "code",
   "execution_count": 6,
   "id": "b33fe528",
   "metadata": {},
   "outputs": [],
   "source": [
    "from langchain_core.language_models import BaseChatModel\n",
    "from langchain_core.messages import BaseMessage, AIMessage\n",
    "import torch\n",
    "\n",
    "class LocalLlamaChat(BaseChatModel):\n",
    "    def __init__(self, model, tokenizer, max_new_tokens=300):\n",
    "        super().__init__()  # avoid BaseModel init conflict\n",
    "        object.__setattr__(self, \"model\", model)\n",
    "        object.__setattr__(self, \"tokenizer\", tokenizer)\n",
    "        object.__setattr__(self, \"max_new_tokens\", max_new_tokens)\n",
    "\n",
    "    def _format_prompt(self, messages: list[BaseMessage]) -> str:\n",
    "        prompt = \"\"\n",
    "        for msg in messages:\n",
    "            if msg.type == \"system\":\n",
    "                prompt += f\"<|system|>\\n{msg.content}\\n\"\n",
    "            elif msg.type == \"human\":\n",
    "                prompt += f\"<|user|>\\n{msg.content}\\n\"\n",
    "            elif msg.type == \"ai\":\n",
    "                prompt += f\"<|assistant|>\\n{msg.content}\\n\"\n",
    "        prompt += \"<|assistant|>\\n\"\n",
    "        return prompt\n",
    "\n",
    "    def invoke(self, messages: list[BaseMessage], **kwargs) -> AIMessage:\n",
    "        prompt = self._format_prompt(messages)\n",
    "        inputs = self.tokenizer(prompt, return_tensors=\"pt\").to(self.model.device)\n",
    "\n",
    "        with torch.no_grad():\n",
    "            outputs = self.model.generate(\n",
    "                **inputs,\n",
    "                max_new_tokens=self.max_new_tokens,\n",
    "                do_sample=True,\n",
    "                temperature=0.7,\n",
    "                top_p=0.95\n",
    "            )\n",
    "\n",
    "        response_text = self.tokenizer.decode(outputs[0], skip_special_tokens=True)\n",
    "        completion = response_text.split(\"<|assistant|>\\n\")[-1].strip()\n",
    "        return AIMessage(content=completion)\n",
    "\n",
    "    @property\n",
    "    def _llm_type(self) -> str:\n",
    "        return \"local-llama\"\n",
    "\n",
    "    def _generate(self, messages: list[BaseMessage], **kwargs):\n",
    "        raise NotImplementedError(\"Use invoke() instead\")\n",
    "\n",
    "    \n",
    "local_llm = LocalLlamaChat(model=model, tokenizer=tokenizer)"
   ]
  },
  {
   "cell_type": "code",
   "execution_count": 7,
   "id": "91925b8e",
   "metadata": {},
   "outputs": [],
   "source": [
    "with open(\"chat_flow.json\") as f:\n",
    "    chat_flow = json.load(f)\n",
    "\n",
    "def check_relevance(user_input: str, expected_question: str) -> bool:\n",
    "    system_prompt = (\n",
    "        \"You are an assistant that checks whether a user's response is relevant to a given question.\\n\"\n",
    "        f\"Question: {expected_question}\\n\"\n",
    "        f\"User Input: {user_input}\\n\"\n",
    "        \"Answer only with 'Yes' if it answers the question, or 'No' if it is off-topic.\"\n",
    "    )\n",
    "    resp = local_llm.invoke([SystemMessage(content=system_prompt)])\n",
    "    return \"yes\" in resp.content.lower()\n",
    "\n",
    "\n",
    "def info_node(state: State) -> State:\n",
    "    messages = state[\"messages\"]\n",
    "    answers = state.get(\"answers\", {})\n",
    "    num_answered = len(answers)\n",
    "\n",
    "    if num_answered >= len(chat_flow):\n",
    "        return {\n",
    "            \"messages\": [AIMessage(content=\"Thanks! I have all the info I need.\")],\n",
    "            \"answers\": answers,\n",
    "        }\n",
    "\n",
    "    current_question = chat_flow[num_answered]\n",
    "    current_question_id = current_question[\"id\"]\n",
    "    current_question_prompt = current_question[\"prompt\"]\n",
    "\n",
    "    # If latest message is from user, check if it's relevant\n",
    "    if messages and isinstance(messages[-1], HumanMessage):\n",
    "        user_input = messages[-1].content.strip()\n",
    "        if check_relevance(user_input, current_question_prompt):\n",
    "            answers[current_question_id] = user_input\n",
    "            num_answered += 1\n",
    "\n",
    "            # If this was the final question\n",
    "            if num_answered >= len(chat_flow):\n",
    "                return {\n",
    "                    \"messages\": [AIMessage(content=\"Thanks! I have all the info I need.\")],\n",
    "                    \"answers\": answers,\n",
    "                }\n",
    "            # Move on to next question\n",
    "            current_question = chat_flow[num_answered]\n",
    "            current_question_prompt = current_question[\"prompt\"]\n",
    "        else:\n",
    "            # Respond to off-topic input, then re-ask the same question\n",
    "            polite_response = f\"Thanks for that! But just to stay on track, {current_question_prompt}\"\n",
    "            return {\n",
    "                \"messages\": [AIMessage(content=polite_response)],\n",
    "                \"answers\": answers,\n",
    "            }\n",
    "\n",
    "    # Proceed with next question\n",
    "    guidance = \"\\n\".join([f\"- {q['prompt']} (should {q['validation_hint']})\" for q in chat_flow])\n",
    "    system_instruction = (\n",
    "        \"You are collecting business profile information. You must ask questions in order.\\n\"\n",
    "        f\"{guidance}\\n\"\n",
    "    )\n",
    "    prompt_messages = [SystemMessage(content=system_instruction)] + messages\n",
    "\n",
    "    ai_response = local_llm.invoke(prompt_messages)\n",
    "    if current_question_prompt not in ai_response.content:\n",
    "        ai_response.content += f\"\\n\\n{current_question_prompt}\"\n",
    "\n",
    "    return {\n",
    "        \"messages\": [ai_response],\n",
    "        \"answers\": answers,\n",
    "    }\n",
    "\n"
   ]
  },
  {
   "cell_type": "code",
   "execution_count": 8,
   "id": "46ca38d0",
   "metadata": {},
   "outputs": [],
   "source": [
    "def add_tool_message(state: State):\n",
    "    return {\n",
    "        \"messages\": [\n",
    "            ToolMessage(\n",
    "                content=\"All user profile info gathered.\",\n",
    "                tool_call_id=state[\"messages\"][-1].tool_calls[0][\"id\"],\n",
    "            )\n",
    "        ]\n",
    "    }"
   ]
  },
  {
   "cell_type": "code",
   "execution_count": 9,
   "id": "6d61748e",
   "metadata": {},
   "outputs": [],
   "source": [
    "def get_prompt_messages(messages):\n",
    "    tool_call = None\n",
    "    after_tool_msgs = []\n",
    "    for m in messages:\n",
    "        if isinstance(m, AIMessage) and m.tool_calls:\n",
    "            tool_call = m.tool_calls[0][\"args\"]\n",
    "        elif isinstance(m, ToolMessage):\n",
    "            continue\n",
    "        elif tool_call is not None:\n",
    "            after_tool_msgs.append(m)\n",
    "    system = f\"Based on the business info below, provide a summary and partner suggestions.\\n\\nBusiness Info:\\n{tool_call}\"  # make more detailed later\n",
    "    return [SystemMessage(content=system)] + after_tool_msgs"
   ]
  },
  {
   "cell_type": "code",
   "execution_count": 10,
   "id": "fabd5b07",
   "metadata": {},
   "outputs": [],
   "source": [
    "def generate_prompt(state: State):\n",
    "    answers = state.get(\"answers\", {})\n",
    "    summary = (\n",
    "        f\"Business Name: {answers.get('name', '')}\\n\"\n",
    "        f\"Company: {answers.get('company', '')}\\n\"\n",
    "        f\"Products/Services: {answers.get('products', '')}\\n\"\n",
    "        \"\\nBased on the above, create a personalized strategy including ideal partners, market suggestions, and next steps.\"\n",
    "    )\n",
    "    response = local_llm.invoke([\n",
    "        SystemMessage(content=summary)\n",
    "    ])\n",
    "    return {\"messages\": [response]}\n"
   ]
  },
  {
   "cell_type": "markdown",
   "id": "f9e5c693",
   "metadata": {},
   "source": [
    "# ROUTER"
   ]
  },
  {
   "cell_type": "code",
   "execution_count": 11,
   "id": "dc9a5397",
   "metadata": {},
   "outputs": [],
   "source": [
    "def get_state(state: State) -> Literal[\"info\", \"add_tool_message\", \"generate\", END]:\n",
    "    if isinstance(state[\"messages\"][-1], AIMessage) and state[\"messages\"][-1].tool_calls:\n",
    "        return \"add_tool_message\"\n",
    "    elif \"answers\" in state and len(state[\"answers\"]) == len(chat_flow):\n",
    "        return \"generate\"\n",
    "    return \"info\""
   ]
  },
  {
   "cell_type": "markdown",
   "id": "edf4bd71",
   "metadata": {},
   "source": [
    "# BUILDING"
   ]
  },
  {
   "cell_type": "code",
   "execution_count": 12,
   "id": "9bc29120",
   "metadata": {},
   "outputs": [
    {
     "data": {
      "text/plain": [
       "<langgraph.graph.state.StateGraph at 0x7eed87b121d0>"
      ]
     },
     "execution_count": 12,
     "metadata": {},
     "output_type": "execute_result"
    }
   ],
   "source": [
    "memory = MemorySaver()\n",
    "graph = StateGraph(State)\n",
    "graph.add_node(\"info\", info_node)\n",
    "graph.add_node(\"add_tool_message\", add_tool_message)\n",
    "graph.add_node(\"generate\", generate_prompt)\n",
    "graph.add_conditional_edges(\"info\", get_state, [\"add_tool_message\", \"info\", END])\n",
    "graph.add_edge(\"add_tool_message\", \"generate\")\n",
    "graph.add_edge(\"generate\", END)\n",
    "graph.set_entry_point(\"info\")"
   ]
  },
  {
   "cell_type": "code",
   "execution_count": 13,
   "id": "814b972a",
   "metadata": {},
   "outputs": [
    {
     "data": {
      "image/png": "[encoded data removed]",
      "text/plain": [
       "<IPython.core.display.Image object>"
      ]
     },
     "metadata": {},
     "output_type": "display_data"
    }
   ],
   "source": [
    "graph = graph.compile(checkpointer=memory)\n",
    "display(Image(graph.get_graph().draw_mermaid_png()))"
   ]
  },
  {
   "cell_type": "markdown",
   "id": "c822f960",
   "metadata": {},
   "source": [
    "# RUNNING"
   ]
  },
  {
   "cell_type": "code",
   "execution_count": null,
   "id": "35ef2113",
   "metadata": {},
   "outputs": [
    {
     "name": "stdout",
     "output_type": "stream",
     "text": [
      "Running on local URL:  http://0.0.0.0:7862\n"
     ]
    },
    {
     "name": "stderr",
     "output_type": "stream",
     "text": [
      "/home/joshua/miniconda3/envs/llm-env/lib/python3.10/site-packages/gradio/analytics.py:106: UserWarning: IMPORTANT: You are using gradio version 4.37.2, however version 4.44.1 is available, please upgrade. \n",
      "--------\n",
      "  warnings.warn(\n"
     ]
    },
    {
     "name": "stdout",
     "output_type": "stream",
     "text": [
      "Running on public URL: https://a512c36b8124d30948.gradio.live\n",
      "\n",
      "This share link expires in 72 hours. For free permanent hosting and GPU upgrades, run `gradio deploy` from Terminal to deploy to Spaces (https://huggingface.co/spaces)\n"
     ]
    },
    {
     "data": {
      "text/html": [
       "<div><iframe src=\"https://a512c36b8124d30948.gradio.live\" width=\"100%\" height=\"500\" allow=\"autoplay; camera; microphone; clipboard-read; clipboard-write;\" frameborder=\"0\" allowfullscreen></iframe></div>"
      ],
      "text/plain": [
       "<IPython.core.display.HTML object>"
      ]
     },
     "metadata": {},
     "output_type": "display_data"
    },
    {
     "data": {
      "text/plain": []
     },
     "execution_count": 14,
     "metadata": {},
     "output_type": "execute_result"
    },
    {
     "name": "stderr",
     "output_type": "stream",
     "text": [
      "Setting `pad_token_id` to `eos_token_id`:128001 for open-end generation.\n",
      "Setting `pad_token_id` to `eos_token_id`:128001 for open-end generation.\n",
      "Setting `pad_token_id` to `eos_token_id`:128001 for open-end generation.\n",
      "Setting `pad_token_id` to `eos_token_id`:128001 for open-end generation.\n",
      "Setting `pad_token_id` to `eos_token_id`:128001 for open-end generation.\n",
      "Setting `pad_token_id` to `eos_token_id`:128001 for open-end generation.\n",
      "Setting `pad_token_id` to `eos_token_id`:128001 for open-end generation.\n",
      "Setting `pad_token_id` to `eos_token_id`:128001 for open-end generation.\n",
      "Setting `pad_token_id` to `eos_token_id`:128001 for open-end generation.\n",
      "Setting `pad_token_id` to `eos_token_id`:128001 for open-end generation.\n",
      "Setting `pad_token_id` to `eos_token_id`:128001 for open-end generation.\n",
      "Setting `pad_token_id` to `eos_token_id`:128001 for open-end generation.\n",
      "Setting `pad_token_id` to `eos_token_id`:128001 for open-end generation.\n",
      "Setting `pad_token_id` to `eos_token_id`:128001 for open-end generation.\n",
      "Setting `pad_token_id` to `eos_token_id`:128001 for open-end generation.\n",
      "Setting `pad_token_id` to `eos_token_id`:128001 for open-end generation.\n",
      "Setting `pad_token_id` to `eos_token_id`:128001 for open-end generation.\n",
      "Setting `pad_token_id` to `eos_token_id`:128001 for open-end generation.\n",
      "Setting `pad_token_id` to `eos_token_id`:128001 for open-end generation.\n",
      "Setting `pad_token_id` to `eos_token_id`:128001 for open-end generation.\n",
      "Setting `pad_token_id` to `eos_token_id`:128001 for open-end generation.\n",
      "Setting `pad_token_id` to `eos_token_id`:128001 for open-end generation.\n",
      "Setting `pad_token_id` to `eos_token_id`:128001 for open-end generation.\n",
      "Setting `pad_token_id` to `eos_token_id`:128001 for open-end generation.\n"
     ]
    },
    {
     "ename": "",
     "evalue": "",
     "output_type": "error",
     "traceback": [
      "\u001b[1;31mThe Kernel crashed while executing code in the current cell or a previous cell. \n",
      "\u001b[1;31mPlease review the code in the cell(s) to identify a possible cause of the failure. \n",
      "\u001b[1;31mClick <a href='https://aka.ms/vscodeJupyterKernelCrash'>here</a> for more info. \n",
      "\u001b[1;31mView Jupyter <a href='command:jupyter.viewOutput'>log</a> for further details."
     ]
    }
   ],
   "source": [
    "import uuid\n",
    "def interactive_chat(user_input: str) -> str:\n",
    "    global chat_state, chat_config\n",
    "\n",
    "    # Reset state if needed\n",
    "    if user_input.strip().lower() in {\"reset\"}:\n",
    "        chat_state = {\"messages\": []}\n",
    "        chat_config = {\"configurable\": {\"thread_id\": str(uuid.uuid4())}}\n",
    "        return \"Session reset. Please type START to begin.\"\n",
    "\n",
    "    chat_state[\"messages\"].append(HumanMessage(content=user_input))\n",
    "\n",
    "    response = \"\"\n",
    "    for output in graph.stream(chat_state, config=chat_config, stream_mode=\"updates\"):\n",
    "        last_msg = next(iter(output.values()))[\"messages\"][-1]\n",
    "        response = last_msg.content  # store latest response\n",
    "\n",
    "    return response\n",
    "\n",
    "chat_state = {\"messages\": []}\n",
    "chat_config = {\"configurable\": {\"thread_id\": str(uuid.uuid4())}}\n",
    "\n",
    "gr.Interface(\n",
    "    fn=interactive_chat,\n",
    "    inputs=gr.Textbox(lines=2, placeholder=\"Type 'START' to begin\"),\n",
    "    outputs=\"text\",\n",
    "    title=\"SMARTConnect V2 - Business Partnership Finder\",\n",
    "    description=\"Say 'START' to begin the business discovery process. Type 'RESET' anytime to restart.\"\n",
    ").launch(server_name=\"0.0.0.0\", server_port=7862, share=True)"
   ]
  }
 ],
 "metadata": {
  "kernelspec": {
   "display_name": "llm-env",
   "language": "python",
   "name": "python3"
  },
  "language_info": {
   "codemirror_mode": {
    "name": "ipython",
    "version": 3
   },
   "file_extension": ".py",
   "mimetype": "text/x-python",
   "name": "python",
   "nbconvert_exporter": "python",
   "pygments_lexer": "ipython3",
   "version": "3.10.16"
  }
 },
 "nbformat": 4,
 "nbformat_minor": 5
}
